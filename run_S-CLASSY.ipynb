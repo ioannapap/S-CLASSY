{
 "cells": [
  {
   "cell_type": "markdown",
   "metadata": {},
   "source": [
    "Discovering Rule Lists with Preferred Variables (S-CLASSY)\n",
    "\n",
    "- Creates dataframes for all datasets\n",
    "- Discovers three expert (empirical) knowledge sets (bottom, random, top) for all datasets and saves them to files.\n",
    "- Evaluates the ROCAUC, overfitting of the all  S-CLASSY sets (bottom, random, top) vs CLASSY and RF"
   ]
  },
  {
   "cell_type": "code",
   "execution_count": 1,
   "metadata": {},
   "outputs": [
    {
     "name": "stdout",
     "output_type": "stream",
     "text": [
      "/Users/jo/Documents/Work/PhD/Code/CLASSY-based/CLASSY/MDLRuleLists-Ioanna/S-CLASSY_top_relative_compression.txt\n",
      "/Users/jo/Documents/Work/PhD/Code/CLASSY-based/CLASSY/MDLRuleLists-Ioanna/S-CLASSY_bottom_relative_compression.txt\n",
      "/Users/jo/Documents/Work/PhD/Code/CLASSY-based/CLASSY/MDLRuleLists-Ioanna/S-CLASSY_random_relative_compression.txt\n",
      "/Users/jo/Documents/Work/PhD/Code/CLASSY-based/CLASSY/MDLRuleLists-Ioanna/CLASSY_relative_compression.txt\n",
      "/Users/jo/Documents/Work/PhD/Code/CLASSY-based/CLASSY/MDLRuleLists-Ioanna/S-CLASSY_top_runtime.txt\n",
      "/Users/jo/Documents/Work/PhD/Code/CLASSY-based/CLASSY/MDLRuleLists-Ioanna/S-CLASSY_bottom_runtime.txt\n",
      "/Users/jo/Documents/Work/PhD/Code/CLASSY-based/CLASSY/MDLRuleLists-Ioanna/S-CLASSY_random_runtime.txt\n",
      "/Users/jo/Documents/Work/PhD/Code/CLASSY-based/CLASSY/MDLRuleLists-Ioanna/CLASSY_runtime.txt\n"
     ]
    }
   ],
   "source": [
    "import pandas as pd\n",
    "import numpy as np\n",
    "import random\n",
    "import sklearn.model_selection as model_selection\n",
    "from sklearn.model_selection import train_test_split\n",
    "from sklearn.model_selection import KFold\n",
    "from sklearn.model_selection import StratifiedKFold\n",
    "\n",
    "from sklearn import metrics\n",
    "from sklearn.metrics import accuracy_score\n",
    "from sklearn.preprocessing import label_binarize\n",
    "\n",
    "from rulelist import RuleListClassifier\n",
    "from sklearn.ensemble import RandomForestClassifier\n",
    "\n",
    "import seaborn as sns\n",
    "import matplotlib.pyplot as plt"
   ]
  },
  {
   "cell_type": "code",
   "execution_count": 2,
   "metadata": {},
   "outputs": [],
   "source": [
    "#--- Import datasets; use your own path to the datasets, and modify _size, _K, and name ---#\n",
    "\n",
    "wine_df = pd.read_csv('../../../../Datasets/LUCS_KDD2/fixed_datasets/wine_fixed.csv', index_col=[0]) \n",
    "wine_size = [178,13]\n",
    "wine_K = 3\n",
    "wine_df.name = 'Wine dataset'\n",
    "#------------------------------------------------------------------------------------"
   ]
  },
  {
   "cell_type": "code",
   "execution_count": 3,
   "metadata": {},
   "outputs": [],
   "source": [
    "#--- Choose one dataset and initialise limit (K) for selectors ---#\n",
    "\n",
    "df = wine_df\n",
    "size = wine_size\n",
    "K = wine_K \n",
    "name = wine_df.name\n",
    "#print(df.iloc[: , -1].value_counts())\n",
    "#print(df)"
   ]
  },
  {
   "cell_type": "code",
   "execution_count": 4,
   "metadata": {},
   "outputs": [],
   "source": [
    "#--- Sets Y, x and X. Works for all datasets if only the target is the last column ---#\n",
    "\n",
    "Y = pd.Series(df.iloc[: , -1].values)\n",
    "x = df.iloc[:,:-1]\n",
    "X = pd.DataFrame(x)"
   ]
  },
  {
   "cell_type": "code",
   "execution_count": 5,
   "metadata": {},
   "outputs": [
    {
     "name": "stderr",
     "output_type": "stream",
     "text": [
      "/Users/jo/opt/anaconda3/lib/python3.7/site-packages/sklearn/ensemble/forest.py:245: FutureWarning: The default value of n_estimators will change from 10 in version 0.20 to 100 in 0.22.\n",
      "  \"10 in version 0.20 to 100 in 0.22.\", FutureWarning)\n"
     ]
    },
    {
     "data": {
      "text/plain": [
       "<matplotlib.axes._subplots.AxesSubplot at 0x7fdd8d8176d0>"
      ]
     },
     "execution_count": 5,
     "metadata": {},
     "output_type": "execute_result"
    },
    {
     "data": {
      "image/png": "[encoded data removed]",
      "text/plain": [
       "<Figure size 1368x576 with 1 Axes>"
      ]
     },
     "metadata": {
      "needs_background": "light"
     },
     "output_type": "display_data"
    }
   ],
   "source": [
    "#--- Discover the expert (empirical) knowledge (Random Forest: top-K important features based on entropy) ---#\n",
    "\n",
    "random_forest_model = RandomForestClassifier(n_estimators = 100, max_leaf_nodes = 5, max_depth = 4, random_state = 17, criterion = \"entropy\") #The maximum depth of the tree a.k.a., conditions\n",
    "random_forest_model.fit(X, Y) \n",
    "importances = random_forest_model.feature_importances_\n",
    "\n",
    "forest = RandomForestClassifier(random_state=0)\n",
    "forest.fit(X, Y)\n",
    "\n",
    "frame = {'variable': X.columns, 'variable importance': importances}\n",
    "forest_importances_df = pd.DataFrame(frame)\n",
    "\n",
    "#--- Create the dictionary with sorted (high to low) features based on importance ---#\n",
    "\n",
    "feature_importance_dict = dict(zip(X.columns, importances))\n",
    "sorted_feature_importance_dict = dict(sorted(feature_importance_dict.items(), key=lambda item: item[1], reverse = True))\n",
    "\n",
    "#--- Get K items in dictionary ---#\n",
    "\n",
    "top_K_features = dict(list(sorted_feature_importance_dict.items())[0: K])\n",
    "bottom_K_features = dict(list(sorted_feature_importance_dict.items())[-K:])\n",
    "random_K_features = dict(random.sample(list(sorted_feature_importance_dict.items()), K))\n",
    "plt.figure(figsize = (19,8))\n",
    "sns.barplot(x ='variable importance', y ='variable', data = forest_importances_df, color = 'black', order = forest_importances_df.sort_values('variable importance',ascending = False).variable)\n",
    "\n",
    "#plt.savefig('variable_importance_[%s].png' % df.name, dpi=300) "
   ]
  },
  {
   "cell_type": "code",
   "execution_count": 6,
   "metadata": {},
   "outputs": [],
   "source": [
    "#--- Write to file expert_knowledge.csv first the *, selectors ---#\n",
    "\n",
    "with open('expert_knowledge_top_K.csv', mode='wt', encoding='utf-8') as expert_file:\n",
    "    expert_file.write('\\n*\\n')\n",
    "    expert_file.write('\\n'.join(list(top_K_features.keys())))\n",
    "\n",
    "with open('expert_knowledge_bottom_K.csv', mode='wt', encoding='utf-8') as expert_file:\n",
    "    expert_file.write('\\n*\\n')\n",
    "    expert_file.write('\\n'.join(list(bottom_K_features.keys())))\n",
    "    \n",
    "with open('expert_knowledge_random_K.csv', mode='wt', encoding='utf-8') as expert_file:\n",
    "    expert_file.write('\\n*\\n')\n",
    "    expert_file.write('\\n'.join(list(random_K_features.keys())))\n"
   ]
  },
  {
   "cell_type": "code",
   "execution_count": 7,
   "metadata": {
    "scrolled": false
   },
   "outputs": [
    {
     "name": "stdout",
     "output_type": "stream",
     "text": [
      "Wine-dataset\n",
      "\n",
      "\n",
      "\n",
      "S-CLASSY BOTTOM\n",
      "Preferred variables:\t ['magnesium', 'non-flavanoid phenols', 'ash']\n",
      "Rule list: IF non-flavanoid phenols >= 36.0 AND OD280/OD315 of deluted wines < 57.0 AND hue < 52.0 THEN usage = 33; \tELSE IF proline < 65.0 THEN usage = 44; \tELSE IF 1.0 <= alcohol < 5.0 THEN usage = 17; \tELSE usage = 30; \n",
      "S-CLASSY (bottom) runtime - sec:  1.3081426620483398\n",
      "\n",
      "\n",
      "Accuracy: 0.9074074074074074\n",
      "\n",
      "S-CLASSY RANDOM\n",
      "Preferred variables:\t ['proline', 'total phenols', 'malic acid']\n",
      "Rule list: IF proline >= 61.0 AND hue < 52.0 AND OD280/OD315 of deluted wines < 57.0 THEN usage = 33; \tELSE IF proline < 65.0 THEN usage = 44; \tELSE IF 1.0 <= alcohol < 5.0 THEN usage = 17; \tELSE usage = 30; \n",
      "S-CLASSY (random) runtime - sec:  1.306015968322754\n",
      "\n",
      "\n",
      "Accuracy: 0.9074074074074074\n",
      "\n",
      "S-CLASSY TOP\n",
      "Preferred variables:\t ['proline', 'flavanoids', 'OD280/OD315 of deluted wines']\n",
      "Rule list: IF flavanoids >= 31.0 AND OD280/OD315 of deluted wines < 57.0 AND hue < 52.0 THEN usage = 33; \tELSE IF proline < 65.0 THEN usage = 44; \tELSE IF 1.0 <= alcohol < 5.0 THEN usage = 17; \tELSE usage = 30; \n",
      "S-CLASSY (top) runtime - sec:  1.3736579418182373\n",
      "\n",
      "\n",
      "Accuracy: 0.9074074074074074\n",
      "\n",
      "CLASSY\n",
      "Rule list: IF malic acid >= 8.0 AND flavanoids < 32.0 THEN usage = 29; \tELSE IF hue < 52.0 AND OD280/OD315 of deluted wines < 57.0 THEN usage = 8; \tELSE IF proline < 65.0 THEN usage = 40; \tELSE IF 1.0 <= alcohol < 5.0 THEN usage = 17; \tELSE usage = 30; \n",
      "CLASSY runtime (sec): 1.8609919548034668\n",
      "\n",
      "\n",
      "Accuracy: 0.9629629629629629\n"
     ]
    }
   ],
   "source": [
    "print(name.replace(\" \", \"-\"))\n",
    "print('\\n')\n",
    "\n",
    "roc = {label: [] for label in Y.unique()}\n",
    "#_X_ = np.array(X)\n",
    "#_Y_ = np.array(Y)\n",
    "\n",
    "\n",
    "model_S_CLASSY = RuleListClassifier(discretization = 'static')\n",
    "model_CLASSY = RuleListClassifier(discretization = 'static')\n",
    "\n",
    "X_train, X_test, y_train, y_test = train_test_split(X, Y, test_size = 0.3)\n",
    "\n",
    "print('\\nS-CLASSY BOTTOM')\n",
    "model_S_CLASSY.fit_S_CLASSY(X_train, y_train, Y.unique(), 'expert_knowledge_bottom_K.csv')\n",
    "y_pred = model_S_CLASSY.predict(X_test)                                                                 \n",
    "y_pred_train = model_S_CLASSY.predict(X_train)       \n",
    "print('Accuracy:', accuracy_score(y_test.values, y_pred))\n",
    "\n",
    "print('\\nS-CLASSY RANDOM')\n",
    "model_S_CLASSY.fit_S_CLASSY(X_train, y_train, Y.unique(), 'expert_knowledge_random_K.csv')\n",
    "y_pred = model_S_CLASSY.predict(X_test)                                                                 \n",
    "y_pred_train = model_S_CLASSY.predict(X_train)       \n",
    "print('Accuracy:', accuracy_score(y_test.values, y_pred))\n",
    "\n",
    "print('\\nS-CLASSY TOP')\n",
    "model_S_CLASSY.fit_S_CLASSY(X_train, y_train, Y.unique(), 'expert_knowledge_top_K.csv')\n",
    "y_pred = model_S_CLASSY.predict(X_test)                                                                 \n",
    "y_pred_train = model_S_CLASSY.predict(X_train)       \n",
    "print('Accuracy:', accuracy_score(y_test.values, y_pred))\n",
    "\n",
    "print('\\nCLASSY')\n",
    "model_CLASSY = RuleListClassifier(discretization = \"static\")\n",
    "model_CLASSY.fit(X_train, y_train, Y.unique())\n",
    "y_pred = model_CLASSY.predict(X_test)\n",
    "y_pred_train = model_CLASSY.predict(X_train) \n",
    "print('Accuracy:', accuracy_score(y_test.values, y_pred))\n",
    "\n"
   ]
  }
 ],
 "metadata": {
  "kernelspec": {
   "display_name": "Python 3",
   "language": "python",
   "name": "python3"
  },
  "language_info": {
   "codemirror_mode": {
    "name": "ipython",
    "version": 3
   },
   "file_extension": ".py",
   "mimetype": "text/x-python",
   "name": "python",
   "nbconvert_exporter": "python",
   "pygments_lexer": "ipython3",
   "version": "3.7.4"
  }
 },
 "nbformat": 4,
 "nbformat_minor": 2
}
